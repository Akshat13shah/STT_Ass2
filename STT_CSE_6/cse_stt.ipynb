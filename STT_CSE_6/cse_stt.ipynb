{
 "cells": [
  {
   "cell_type": "code",
   "execution_count": 2,
   "id": "c20236c5",
   "metadata": {},
   "outputs": [],
   "source": [
    "cppcheck_path = r\"C:\\Program Files\\Cppcheck\\cppcheck.exe\""
   ]
  },
  {
   "cell_type": "code",
   "execution_count": 3,
   "id": "c565cb41",
   "metadata": {},
   "outputs": [
    {
     "name": "stdout",
     "output_type": "stream",
     "text": [
      "Requirement already satisfied: flawfinder in c:\\users\\aksha\\appdata\\local\\programs\\python\\python311\\lib\\site-packages (2.0.19)\n",
      "Note: you may need to restart the kernel to use updated packages.\n"
     ]
    },
    {
     "name": "stderr",
     "output_type": "stream",
     "text": [
      "\n",
      "[notice] A new release of pip is available: 25.0 -> 25.2\n",
      "[notice] To update, run: python.exe -m pip install --upgrade pip\n"
     ]
    }
   ],
   "source": [
    "pip install flawfinder"
   ]
  },
  {
   "cell_type": "code",
   "execution_count": 4,
   "id": "e27c23b3",
   "metadata": {},
   "outputs": [
    {
     "name": "stdout",
     "output_type": "stream",
     "text": [
      "Requirement already satisfied: semgrep in c:\\users\\aksha\\appdata\\local\\programs\\python\\python311\\lib\\site-packages (1.135.0)\n",
      "Requirement already satisfied: attrs>=21.3 in c:\\users\\aksha\\appdata\\local\\programs\\python\\python311\\lib\\site-packages (from semgrep) (25.3.0)\n",
      "Requirement already satisfied: boltons~=21.0 in c:\\users\\aksha\\appdata\\local\\programs\\python\\python311\\lib\\site-packages (from semgrep) (21.0.0)\n",
      "Requirement already satisfied: click-option-group~=0.5 in c:\\users\\aksha\\appdata\\local\\programs\\python\\python311\\lib\\site-packages (from semgrep) (0.5.7)\n",
      "Requirement already satisfied: click~=8.1.8 in c:\\users\\aksha\\appdata\\local\\programs\\python\\python311\\lib\\site-packages (from semgrep) (8.1.8)\n",
      "Requirement already satisfied: colorama~=0.4.0 in c:\\users\\aksha\\appdata\\local\\programs\\python\\python311\\lib\\site-packages (from semgrep) (0.4.6)\n",
      "Requirement already satisfied: defusedxml~=0.7.1 in c:\\users\\aksha\\appdata\\local\\programs\\python\\python311\\lib\\site-packages (from semgrep) (0.7.1)\n",
      "Requirement already satisfied: exceptiongroup~=1.2.0 in c:\\users\\aksha\\appdata\\local\\programs\\python\\python311\\lib\\site-packages (from semgrep) (1.2.2)\n",
      "Requirement already satisfied: glom~=22.1 in c:\\users\\aksha\\appdata\\local\\programs\\python\\python311\\lib\\site-packages (from semgrep) (22.1.0)\n",
      "Requirement already satisfied: jsonschema~=4.6 in c:\\users\\aksha\\appdata\\local\\programs\\python\\python311\\lib\\site-packages (from semgrep) (4.25.1)\n",
      "Requirement already satisfied: opentelemetry-api~=1.25.0 in c:\\users\\aksha\\appdata\\local\\programs\\python\\python311\\lib\\site-packages (from semgrep) (1.25.0)\n",
      "Requirement already satisfied: opentelemetry-sdk~=1.25.0 in c:\\users\\aksha\\appdata\\local\\programs\\python\\python311\\lib\\site-packages (from semgrep) (1.25.0)\n",
      "Requirement already satisfied: opentelemetry-exporter-otlp-proto-http~=1.25.0 in c:\\users\\aksha\\appdata\\local\\programs\\python\\python311\\lib\\site-packages (from semgrep) (1.25.0)\n",
      "Requirement already satisfied: opentelemetry-instrumentation-requests~=0.46b0 in c:\\users\\aksha\\appdata\\local\\programs\\python\\python311\\lib\\site-packages (from semgrep) (0.46b0)\n",
      "Requirement already satisfied: packaging>=21.0 in c:\\users\\aksha\\appdata\\local\\programs\\python\\python311\\lib\\site-packages (from semgrep) (25.0)\n",
      "Requirement already satisfied: peewee~=3.14 in c:\\users\\aksha\\appdata\\local\\programs\\python\\python311\\lib\\site-packages (from semgrep) (3.18.2)\n",
      "Requirement already satisfied: requests~=2.22 in c:\\users\\aksha\\appdata\\local\\programs\\python\\python311\\lib\\site-packages (from semgrep) (2.32.5)\n",
      "Requirement already satisfied: rich~=13.5.2 in c:\\users\\aksha\\appdata\\local\\programs\\python\\python311\\lib\\site-packages (from semgrep) (13.5.3)\n",
      "Requirement already satisfied: ruamel.yaml>=0.18.5 in c:\\users\\aksha\\appdata\\local\\programs\\python\\python311\\lib\\site-packages (from semgrep) (0.18.15)\n",
      "Requirement already satisfied: tomli~=2.0.1 in c:\\users\\aksha\\appdata\\local\\programs\\python\\python311\\lib\\site-packages (from semgrep) (2.0.2)\n",
      "Requirement already satisfied: typing-extensions~=4.2 in c:\\users\\aksha\\appdata\\local\\programs\\python\\python311\\lib\\site-packages (from semgrep) (4.15.0)\n",
      "Requirement already satisfied: urllib3~=2.0 in c:\\users\\aksha\\appdata\\local\\programs\\python\\python311\\lib\\site-packages (from semgrep) (2.5.0)\n",
      "Requirement already satisfied: wcmatch~=8.3 in c:\\users\\aksha\\appdata\\local\\programs\\python\\python311\\lib\\site-packages (from semgrep) (8.5.2)\n",
      "Requirement already satisfied: face>=20.1.0 in c:\\users\\aksha\\appdata\\local\\programs\\python\\python311\\lib\\site-packages (from glom~=22.1->semgrep) (24.0.0)\n",
      "Requirement already satisfied: jsonschema-specifications>=2023.03.6 in c:\\users\\aksha\\appdata\\local\\programs\\python\\python311\\lib\\site-packages (from jsonschema~=4.6->semgrep) (2025.9.1)\n",
      "Requirement already satisfied: referencing>=0.28.4 in c:\\users\\aksha\\appdata\\local\\programs\\python\\python311\\lib\\site-packages (from jsonschema~=4.6->semgrep) (0.36.2)\n",
      "Requirement already satisfied: rpds-py>=0.7.1 in c:\\users\\aksha\\appdata\\local\\programs\\python\\python311\\lib\\site-packages (from jsonschema~=4.6->semgrep) (0.27.1)\n",
      "Requirement already satisfied: deprecated>=1.2.6 in c:\\users\\aksha\\appdata\\local\\programs\\python\\python311\\lib\\site-packages (from opentelemetry-api~=1.25.0->semgrep) (1.2.18)\n",
      "Requirement already satisfied: importlib-metadata<=7.1,>=6.0 in c:\\users\\aksha\\appdata\\local\\programs\\python\\python311\\lib\\site-packages (from opentelemetry-api~=1.25.0->semgrep) (7.1.0)\n",
      "Requirement already satisfied: googleapis-common-protos~=1.52 in c:\\users\\aksha\\appdata\\local\\programs\\python\\python311\\lib\\site-packages (from opentelemetry-exporter-otlp-proto-http~=1.25.0->semgrep) (1.70.0)\n",
      "Requirement already satisfied: opentelemetry-exporter-otlp-proto-common==1.25.0 in c:\\users\\aksha\\appdata\\local\\programs\\python\\python311\\lib\\site-packages (from opentelemetry-exporter-otlp-proto-http~=1.25.0->semgrep) (1.25.0)\n",
      "Requirement already satisfied: opentelemetry-proto==1.25.0 in c:\\users\\aksha\\appdata\\local\\programs\\python\\python311\\lib\\site-packages (from opentelemetry-exporter-otlp-proto-http~=1.25.0->semgrep) (1.25.0)\n",
      "Requirement already satisfied: protobuf<5.0,>=3.19 in c:\\users\\aksha\\appdata\\local\\programs\\python\\python311\\lib\\site-packages (from opentelemetry-proto==1.25.0->opentelemetry-exporter-otlp-proto-http~=1.25.0->semgrep) (4.25.8)\n",
      "Requirement already satisfied: opentelemetry-instrumentation==0.46b0 in c:\\users\\aksha\\appdata\\local\\programs\\python\\python311\\lib\\site-packages (from opentelemetry-instrumentation-requests~=0.46b0->semgrep) (0.46b0)\n",
      "Requirement already satisfied: opentelemetry-semantic-conventions==0.46b0 in c:\\users\\aksha\\appdata\\local\\programs\\python\\python311\\lib\\site-packages (from opentelemetry-instrumentation-requests~=0.46b0->semgrep) (0.46b0)\n",
      "Requirement already satisfied: opentelemetry-util-http==0.46b0 in c:\\users\\aksha\\appdata\\local\\programs\\python\\python311\\lib\\site-packages (from opentelemetry-instrumentation-requests~=0.46b0->semgrep) (0.46b0)\n",
      "Requirement already satisfied: setuptools>=16.0 in c:\\users\\aksha\\appdata\\local\\programs\\python\\python311\\lib\\site-packages (from opentelemetry-instrumentation==0.46b0->opentelemetry-instrumentation-requests~=0.46b0->semgrep) (80.9.0)\n",
      "Requirement already satisfied: wrapt<2.0.0,>=1.0.0 in c:\\users\\aksha\\appdata\\local\\programs\\python\\python311\\lib\\site-packages (from opentelemetry-instrumentation==0.46b0->opentelemetry-instrumentation-requests~=0.46b0->semgrep) (1.17.3)\n",
      "Requirement already satisfied: charset_normalizer<4,>=2 in c:\\users\\aksha\\appdata\\local\\programs\\python\\python311\\lib\\site-packages (from requests~=2.22->semgrep) (3.4.3)\n",
      "Requirement already satisfied: idna<4,>=2.5 in c:\\users\\aksha\\appdata\\local\\programs\\python\\python311\\lib\\site-packages (from requests~=2.22->semgrep) (3.10)\n",
      "Requirement already satisfied: certifi>=2017.4.17 in c:\\users\\aksha\\appdata\\local\\programs\\python\\python311\\lib\\site-packages (from requests~=2.22->semgrep) (2025.8.3)\n",
      "Requirement already satisfied: markdown-it-py>=2.2.0 in c:\\users\\aksha\\appdata\\local\\programs\\python\\python311\\lib\\site-packages (from rich~=13.5.2->semgrep) (4.0.0)\n",
      "Requirement already satisfied: pygments<3.0.0,>=2.13.0 in c:\\users\\aksha\\appdata\\local\\programs\\python\\python311\\lib\\site-packages (from rich~=13.5.2->semgrep) (2.19.2)\n",
      "Requirement already satisfied: ruamel.yaml.clib>=0.2.7 in c:\\users\\aksha\\appdata\\local\\programs\\python\\python311\\lib\\site-packages (from ruamel.yaml>=0.18.5->semgrep) (0.2.12)\n",
      "Requirement already satisfied: bracex>=2.1.1 in c:\\users\\aksha\\appdata\\local\\programs\\python\\python311\\lib\\site-packages (from wcmatch~=8.3->semgrep) (2.6)\n",
      "Requirement already satisfied: zipp>=0.5 in c:\\users\\aksha\\appdata\\local\\programs\\python\\python311\\lib\\site-packages (from importlib-metadata<=7.1,>=6.0->opentelemetry-api~=1.25.0->semgrep) (3.23.0)\n",
      "Requirement already satisfied: mdurl~=0.1 in c:\\users\\aksha\\appdata\\local\\programs\\python\\python311\\lib\\site-packages (from markdown-it-py>=2.2.0->rich~=13.5.2->semgrep) (0.1.2)\n",
      "Note: you may need to restart the kernel to use updated packages.\n"
     ]
    },
    {
     "name": "stderr",
     "output_type": "stream",
     "text": [
      "\n",
      "[notice] A new release of pip is available: 25.0 -> 25.2\n",
      "[notice] To update, run: python.exe -m pip install --upgrade pip\n"
     ]
    }
   ],
   "source": [
    "pip install semgrep"
   ]
  },
  {
   "cell_type": "code",
   "execution_count": 2,
   "id": "812f869c",
   "metadata": {},
   "outputs": [
    {
     "name": "stderr",
     "output_type": "stream",
     "text": [
      "fatal: destination path 'repo_1' already exists and is not an empty directory.\n",
      "fatal: destination path 'repo_2' already exists and is not an empty directory.\n"
     ]
    }
   ],
   "source": [
    "!git clone https://github.com/ahrm/sioyek repo_1\n",
    "!git clone https://github.com/akheron/jansson repo_2\n"
   ]
  },
  {
   "cell_type": "code",
   "execution_count": 3,
   "id": "1243a03f",
   "metadata": {},
   "outputs": [
    {
     "name": "stderr",
     "output_type": "stream",
     "text": [
      "fatal: destination path 'repo_3' already exists and is not an empty directory.\n"
     ]
    }
   ],
   "source": [
    "!git clone https://github.com/felixkratz/sketchybar repo_3"
   ]
  },
  {
   "cell_type": "code",
   "execution_count": 6,
   "id": "77ebe718",
   "metadata": {},
   "outputs": [],
   "source": [
    "import os\n",
    "\n",
    "os.makedirs(\"results\", exist_ok=True)\n"
   ]
  },
  {
   "cell_type": "code",
   "execution_count": 6,
   "id": "fa364afa",
   "metadata": {},
   "outputs": [],
   "source": [
    "import subprocess\n",
    "import os\n",
    "from glob import glob\n",
    "from tqdm import tqdm  \n",
    "cppcheck_path = r\"C:\\Program Files\\Cppcheck\\cppcheck.exe\"\n",
    "repos = [\"repo_1\", \"repo_2\", \"repo_3\"]\n"
   ]
  },
  {
   "cell_type": "code",
   "execution_count": 14,
   "id": "9820113e",
   "metadata": {},
   "outputs": [
    {
     "name": "stderr",
     "output_type": "stream",
     "text": [
      "Scanning repo_1: 100%|██████████| 51/51 [33:05<00:00, 38.92s/it]   \n",
      "Scanning repo_2: 100%|██████████| 45/45 [00:59<00:00,  1.33s/it]\n",
      "Scanning repo_3: 100%|██████████| 61/61 [00:28<00:00,  2.13it/s]\n"
     ]
    }
   ],
   "source": [
    "for repo in repos:\n",
    "    files = glob(os.path.join(repo, \"**\", \"*.c\"), recursive=True) + \\\n",
    "            glob(os.path.join(repo, \"**\", \"*.cpp\"), recursive=True) + \\\n",
    "            glob(os.path.join(repo, \"**\", \"*.h\"), recursive=True)\n",
    "\n",
    "    output_file = f\"results/{repo}_cppcheck.xml\"\n",
    "    \n",
    "    # Open the XML file for writing\n",
    "    with open(output_file, \"w\") as f:\n",
    "        f.write('<results>\\n')  # start XML root\n",
    "        \n",
    "        for file in tqdm(files, desc=f\"Scanning {repo}\"):\n",
    "            subprocess.run([cppcheck_path, \"--enable=warning\", \"--xml\", \"--xml-version=2\", file],\n",
    "                           stderr=f)  # append XML for each file\n",
    "\n",
    "        f.write('</results>')  # close XML root\n",
    "\n"
   ]
  },
  {
   "cell_type": "code",
   "execution_count": 7,
   "id": "00a385de",
   "metadata": {},
   "outputs": [],
   "source": [
    "for repo in repos:\n",
    "    output_file = f\"results/{repo}_flawfinder.csv\"\n",
    "    subprocess.run([\"flawfinder\", \"--context\", \"--csv\", repo],\n",
    "                   stdout=open(output_file, \"w\"))\n"
   ]
  },
  {
   "cell_type": "code",
   "execution_count": 13,
   "id": "f0c04e8e",
   "metadata": {},
   "outputs": [],
   "source": [
    "for repo in repos:\n",
    "    output_file = f\"results/{repo}_semgrep.json\"\n",
    "    subprocess.run([\n",
    "        \"semgrep\",\n",
    "        \"--config=p/cpp-security-audit\",  # C/C++ security rules with CWE mapping\n",
    "        \"--json\",\n",
    "        \"--output\", output_file,\n",
    "        repo\n",
    "    ])\n"
   ]
  },
  {
   "cell_type": "code",
   "execution_count": 2,
   "id": "789c22d8",
   "metadata": {},
   "outputs": [
    {
     "name": "stdout",
     "output_type": "stream",
     "text": [
      "Consolidated CSV saved as 'results/consolidated_cwe.csv'\n",
      "\n",
      " Top 25 CWE Coverage by Tool:\n",
      "cppcheck: 8.00% (2/25)\n",
      "flawfinder: 16.00% (4/25)\n",
      "semgrep: 0.00% (0/25)\n"
     ]
    }
   ],
   "source": [
    "import os\n",
    "import xml.etree.ElementTree as ET\n",
    "import csv\n",
    "import json\n",
    "import pandas as pd\n",
    "import re\n",
    "\n",
    "# ====== CONFIG ======\n",
    "repos = [\"repo_1\", \"repo_2\", \"repo_3\"]\n",
    "tools = [\"cppcheck\", \"flawfinder\", \"semgrep\"]\n",
    "results_dir = \"results\"\n",
    "\n",
    "# Top 25 CWEs (MITRE) – ensure you have all 25 unique CWEs\n",
    "top25_cwes = [\n",
    "    \"CWE-79\", \"CWE-787\", \"CWE-89\", \"CWE-352\", \"CWE-22\",\n",
    "    \"CWE-125\", \"CWE-78\", \"CWE-416\", \"CWE-862\", \"CWE-434\",\n",
    "    \"CWE-94\", \"CWE-20\", \"CWE-77\", \"CWE-287\", \"CWE-269\",\n",
    "    \"CWE-502\", \"CWE-200\", \"CWE-863\", \"CWE-918\", \"CWE-119\",\n",
    "    \"CWE-476\", \"CWE-798\", \"CWE-190\", \"CWE-400\", \"CWE-306\"\n",
    "]\n",
    "\n",
    "\n",
    "# ====== HELPER FUNCTIONS ======\n",
    "def normalize_cwe(cwe_id):\n",
    "    \"\"\"Return a list of cleaned CWE IDs\"\"\"\n",
    "    cwe_list = re.split(r'[/!]', str(cwe_id))  # split composites\n",
    "    normalized = []\n",
    "    for c in cwe_list:\n",
    "        c = c.strip()\n",
    "        if not c:\n",
    "            continue\n",
    "        # Add CWE- prefix if missing\n",
    "        if c.isdigit():\n",
    "            c = f\"CWE-{c}\"\n",
    "        elif not c.upper().startswith(\"CWE-\"):\n",
    "            c = c.replace(\" \", \"\")\n",
    "            c = \"CWE-\" + c\n",
    "        normalized.append(c.upper())\n",
    "    return normalized\n",
    "\n",
    "def extract_cppcheck_cwe(file_path):\n",
    "    cwe_counts = {}\n",
    "    if not os.path.exists(file_path):\n",
    "        print(f\" File not found: {file_path}\")\n",
    "        return cwe_counts\n",
    "\n",
    "    with open(file_path, 'r', encoding='utf-8', errors='ignore') as f:\n",
    "        content = f.read()\n",
    "\n",
    "    # Remove XML declarations\n",
    "    content = re.sub(r'<\\?xml.*?\\?>', '', content)\n",
    "    # Wrap in a single root tag\n",
    "    content = f\"<root>{content}</root>\"\n",
    "\n",
    "    root = ET.fromstring(content)\n",
    "    for error in root.findall(\".//error\"):\n",
    "        cwe = error.attrib.get(\"cwe\")\n",
    "        if cwe:\n",
    "            for norm in normalize_cwe(cwe):\n",
    "                cwe_counts[norm] = cwe_counts.get(norm, 0) + 1\n",
    "    return cwe_counts\n",
    "\n",
    "def extract_flawfinder_cwe(file_path):\n",
    "    cwe_counts = {}\n",
    "    if not os.path.exists(file_path):\n",
    "        print(f\" File not found: {file_path}\")\n",
    "        return cwe_counts\n",
    "\n",
    "    with open(file_path, newline='', encoding='utf-8', errors='ignore') as f:\n",
    "        reader = csv.DictReader(f)\n",
    "        for row in reader:\n",
    "            cwe = row.get(\"CWEs\")\n",
    "            if cwe and cwe.strip():\n",
    "                for single_cwe in cwe.split(','):\n",
    "                    for norm in normalize_cwe(single_cwe):\n",
    "                        cwe_counts[norm] = cwe_counts.get(norm, 0) + 1\n",
    "    return cwe_counts\n",
    "\n",
    "def extract_semgrep_cwe(file_path):\n",
    "    \"\"\"Extract CWEs from Semgrep JSON output\"\"\"\n",
    "    cwe_counts = {}\n",
    "    if not os.path.exists(file_path):\n",
    "        print(f\" File not found: {file_path}\")\n",
    "        return cwe_counts\n",
    "\n",
    "    with open(file_path, 'r', encoding='utf-8') as f:\n",
    "        data = json.load(f)\n",
    "        for result in data.get(\"results\", []):\n",
    "            cwe = result.get(\"extra\", {}).get(\"cwe\")\n",
    "            if cwe:\n",
    "                if isinstance(cwe, list):\n",
    "                    for norm in normalize_cwe(cwe):\n",
    "                        cwe_counts[norm] = cwe_counts.get(norm, 0) + 1\n",
    "                else:\n",
    "                    for norm in normalize_cwe(cwe):\n",
    "                        cwe_counts[norm] = cwe_counts.get(norm, 0) + 1\n",
    "    return cwe_counts\n",
    "\n",
    "# ====== MAIN PROCESS ======\n",
    "all_data = []\n",
    "tool_cwe_sets = {tool: set() for tool in tools}\n",
    "\n",
    "for repo in repos:\n",
    "    for tool in tools:\n",
    "        file_path = os.path.join(results_dir, f\"{repo}_{tool}\")\n",
    "        if tool == \"cppcheck\":\n",
    "            file_path += \".xml\"\n",
    "            cwe_dict = extract_cppcheck_cwe(file_path)\n",
    "        elif tool == \"flawfinder\":\n",
    "            file_path += \".csv\"\n",
    "            cwe_dict = extract_flawfinder_cwe(file_path)\n",
    "        elif tool == \"semgrep\":\n",
    "            file_path += \".json\"\n",
    "            cwe_dict = extract_semgrep_cwe(file_path)\n",
    "        else:\n",
    "            continue\n",
    "\n",
    "        for cwe_id, count in cwe_dict.items():\n",
    "            all_data.append({\n",
    "                \"Project_name\": repo,\n",
    "                \"Tool_name\": tool,\n",
    "                \"CWE_ID\": cwe_id,\n",
    "                \"Number_of_Findings\": count,\n",
    "                \"Is_In_CWE_Top_25?\": \"Yes\" if cwe_id in top25_cwes else \"No\"\n",
    "            })\n",
    "            tool_cwe_sets[tool].add(cwe_id)\n",
    "\n",
    "# ====== SAVE CONSOLIDATED CSV ======\n",
    "df = pd.DataFrame(all_data)\n",
    "os.makedirs(results_dir, exist_ok=True)\n",
    "df.to_csv(os.path.join(results_dir, \"consolidated_cwe.csv\"), index=False)\n",
    "print(\"Consolidated CSV saved as 'results/consolidated_cwe.csv'\")\n",
    "\n",
    "# ====== TOOL-LEVEL COVERAGE ======\n",
    "print(\"\\n Top 25 CWE Coverage by Tool:\")\n",
    "for tool in tools:\n",
    "    top25_found = sum(1 for cwe in tool_cwe_sets[tool] if cwe in top25_cwes)\n",
    "    coverage = (top25_found / len(top25_cwes)) * 100\n",
    "    print(f\"{tool}: {coverage:.2f}% ({top25_found}/{len(top25_cwes)})\")\n",
    "\n",
    "\n"
   ]
  },
  {
   "cell_type": "code",
   "execution_count": null,
   "id": "3688435d",
   "metadata": {},
   "outputs": [
    {
     "name": "stdout",
     "output_type": "stream",
     "text": [
      "\n",
      " Detailed tool × CWE breakdown saved as 'results\\tool_cwe_breakdown.csv'\n",
      "\n",
      " Total CWE Findings by Tool:\n",
      "cppcheck: 448 findings\n",
      "flawfinder: 1655 findings\n",
      "semgrep: 0 findings\n",
      "\n",
      " Top CWEs detected by cppcheck:\n",
      "CWE-476: 256 times\n",
      "CWE-457: 60 times\n",
      "CWE-398: 52 times\n",
      "CWE-401: 48 times\n",
      "CWE-686: 8 times\n",
      "CWE-758: 6 times\n",
      "CWE-788: 5 times\n",
      "CWE-682: 4 times\n",
      "CWE-562: 3 times\n",
      "CWE-467: 1 times\n",
      "CWE-190: 1 times\n",
      "CWE-195: 1 times\n",
      "CWE-683: 1 times\n",
      "CWE-672: 1 times\n",
      "CWE-664: 1 times\n",
      "\n",
      " Top CWEs detected by flawfinder:\n",
      "CWE-120: 816 times\n",
      "CWE-119: 277 times\n",
      "CWE-126: 272 times\n",
      "CWE-362: 126 times\n",
      "CWE-134: 56 times\n",
      "CWE-20: 43 times\n",
      "CWE-807: 23 times\n",
      "CWE-190: 18 times\n",
      "CWE-78: 9 times\n",
      "CWE-676: 6 times\n",
      "CWE-367: 5 times\n",
      "CWE-327: 2 times\n",
      "CWE-829: 1 times\n",
      "CWE-785: 1 times\n",
      "\n",
      " Top CWEs detected by semgrep:\n",
      "No vulnerabilities detected\n"
     ]
    }
   ],
   "source": [
    "# ====== TOOL × CWE DETAILED BREAKDOWN ======\n",
    "# Aggregate total counts per tool and CWE across all repos\n",
    "tool_cwe_counts = {tool: {} for tool in tools}\n",
    "\n",
    "for tool in tools:\n",
    "    for entry in all_data:\n",
    "        if entry[\"Tool_name\"] == tool:\n",
    "            cwe = entry[\"CWE_ID\"]\n",
    "            count = entry[\"Number_of_Findings\"]\n",
    "            tool_cwe_counts[tool][cwe] = tool_cwe_counts[tool].get(cwe, 0) + count\n",
    "\n",
    "# Convert to DataFrame for nicer display and saving\n",
    "breakdown_rows = []\n",
    "for tool, cwe_dict in tool_cwe_counts.items():\n",
    "    if not cwe_dict:  # If tool has no findings\n",
    "        breakdown_rows.append({\n",
    "            \"Tool_name\": tool,\n",
    "            \"CWE_ID\": \"None\",\n",
    "            \"Total_Number_of_Findings\": 0,\n",
    "            \"Is_In_CWE_Top_25?\": \"No\"\n",
    "        })\n",
    "    else:\n",
    "        for cwe, total_count in cwe_dict.items():\n",
    "            breakdown_rows.append({\n",
    "                \"Tool_name\": tool,\n",
    "                \"CWE_ID\": cwe,\n",
    "                \"Total_Number_of_Findings\": total_count,\n",
    "                \"Is_In_CWE_Top_25?\": \"Yes\" if cwe in top25_cwes else \"No\"\n",
    "            })\n",
    "\n",
    "breakdown_df = pd.DataFrame(breakdown_rows)\n",
    "breakdown_csv_path = os.path.join(results_dir, \"tool_cwe_breakdown.csv\")\n",
    "breakdown_df.to_csv(breakdown_csv_path, index=False)\n",
    "print(f\"\\n Detailed tool × CWE breakdown saved as '{breakdown_csv_path}'\")\n",
    "\n",
    "# ====== TOTAL CWE FINDINGS PER TOOL ======\n",
    "print(\"\\n Total CWE Findings by Tool:\")\n",
    "for tool in tools:\n",
    "    total_findings = sum(tool_cwe_counts[tool].values()) if tool_cwe_counts[tool] else 0\n",
    "    print(f\"{tool}: {total_findings} findings\")\n",
    "\n",
    "# ====== Display top CWEs per tool ======\n",
    "for tool in tools:\n",
    "    print(f\"\\n Top CWEs detected by {tool}:\")\n",
    "    if not tool_cwe_counts[tool]:\n",
    "        print(\"No vulnerabilities detected\")\n",
    "        continue\n",
    "    top_cwes = sorted(tool_cwe_counts[tool].items(), key=lambda x: x[1], reverse=True)\n",
    "    for cwe, count in top_cwes:\n",
    "        print(f\"{cwe}: {count} times\")\n",
    "\n",
    "\n"
   ]
  },
  {
   "cell_type": "code",
   "execution_count": null,
   "id": "a35b2e51",
   "metadata": {},
   "outputs": [
    {
     "name": "stdout",
     "output_type": "stream",
     "text": [
      "\n",
      " Top 25 CWE Coverage by Tool:\n",
      "cppcheck: 8.00% (2/25)\n",
      "flawfinder: 16.00% (4/25)\n",
      "semgrep: 0.00% (0/25)\n",
      "\n",
      " Coverage bar chart saved as 'results\\cwe_coverage_by_tool.png'\n"
     ]
    },
    {
     "data": {
      "image/png": "[encoded data removed]",
      "text/plain": [
       "<Figure size 800x500 with 1 Axes>"
      ]
     },
     "metadata": {},
     "output_type": "display_data"
    }
   ],
   "source": [
    "# ====== TOOL-LEVEL TOP 25 CWE COVERAGE ======\n",
    "print(\"\\n Top 25 CWE Coverage by Tool:\")\n",
    "\n",
    "coverage_data = []\n",
    "for tool in tools:\n",
    "    detected_cwes = set(tool_cwe_counts[tool].keys())\n",
    "    top25_found = sum(1 for cwe in detected_cwes if cwe in top25_cwes)\n",
    "    coverage = (top25_found / len(top25_cwes)) * 100\n",
    "    coverage_data.append({\"Tool\": tool, \"Top25_CWEs_Found\": top25_found, \"Coverage_%\": coverage})\n",
    "    print(f\"{tool}: {coverage:.2f}% ({top25_found}/{len(top25_cwes)})\")\n",
    "\n",
    "# Convert to DataFrame for plotting\n",
    "coverage_df = pd.DataFrame(coverage_data)\n",
    "\n",
    "# ====== VISUALIZATION ======\n",
    "import matplotlib.pyplot as plt\n",
    "\n",
    "plt.figure(figsize=(8, 5))\n",
    "plt.bar(coverage_df[\"Tool\"], coverage_df[\"Coverage_%\"])\n",
    "plt.title(\"Top 25 CWE Coverage by Each Tool\")\n",
    "plt.ylabel(\"Coverage (%)\")\n",
    "plt.xlabel(\"Tool\")\n",
    "plt.ylim(0, 100)\n",
    "plt.grid(axis='y', linestyle='--', alpha=0.7)\n",
    "plt.tight_layout()\n",
    "\n",
    "coverage_plot_path = os.path.join(results_dir, \"cwe_coverage_by_tool.png\")\n",
    "plt.savefig(coverage_plot_path)\n",
    "print(f\"\\n Coverage bar chart saved as '{coverage_plot_path}'\")\n",
    "\n",
    "plt.show()\n"
   ]
  },
  {
   "cell_type": "code",
   "execution_count": 10,
   "id": "3485fb43",
   "metadata": {},
   "outputs": [
    {
     "name": "stdout",
     "output_type": "stream",
     "text": [
      "\n",
      " IoU Matrix saved as 'results\\tool_iou_matrix.csv'\n",
      "\n",
      " Pairwise IoU Matrix (CWE Overlap Between Tools):\n",
      "            cppcheck  flawfinder  semgrep\n",
      "cppcheck        1.00        0.04      0.0\n",
      "flawfinder      0.04        1.00      0.0\n",
      "semgrep         0.00        0.00      0.0\n"
     ]
    }
   ],
   "source": [
    "# ====== PAIRWISE IoU (Intersection over Union) ======\n",
    "# Ensure each tool has a CWE set (empty if no findings)\n",
    "tool_cwe_sets = {tool: set(tool_cwe_counts[tool].keys()) for tool in tools}\n",
    "\n",
    "# Initialize IoU matrix\n",
    "iou_matrix = pd.DataFrame(index=tools, columns=tools, dtype=float)\n",
    "\n",
    "# Compute pairwise IoU\n",
    "for t1 in tools:\n",
    "    for t2 in tools:\n",
    "        set1 = tool_cwe_sets[t1]\n",
    "        set2 = tool_cwe_sets[t2]\n",
    "        intersection = len(set1 & set2)\n",
    "        union = len(set1 | set2)\n",
    "        iou = intersection / union if union > 0 else 0.0\n",
    "        iou_matrix.loc[t1, t2] = round(iou, 2)  # Round to 2 decimals for clarity\n",
    "\n",
    "# Save IoU matrix CSV\n",
    "iou_csv_path = os.path.join(results_dir, \"tool_iou_matrix.csv\")\n",
    "iou_matrix.to_csv(iou_csv_path)\n",
    "print(f\"\\n IoU Matrix saved as '{iou_csv_path}'\")\n",
    "\n",
    "# Display IoU matrix\n",
    "print(\"\\n Pairwise IoU Matrix (CWE Overlap Between Tools):\")\n",
    "print(iou_matrix)\n"
   ]
  },
  {
   "cell_type": "code",
   "execution_count": null,
   "id": "25eb88e8",
   "metadata": {},
   "outputs": [
    {
     "data": {
      "image/png": "[encoded data removed]",
      "text/plain": [
       "<Figure size 600x500 with 2 Axes>"
      ]
     },
     "metadata": {},
     "output_type": "display_data"
    }
   ],
   "source": [
    "import matplotlib.pyplot as plt\n",
    "import seaborn as sns\n",
    "# Heatmap for visualization\n",
    "plt.figure(figsize=(6,5))\n",
    "sns.heatmap(iou_matrix.astype(float), annot=True, cmap=\"YlGnBu\", linewidths=0.5)\n",
    "plt.title(\"Pairwise IoU (CWE Overlap) Between Tools\")\n",
    "plt.savefig(os.patDh.join(results_dir, \"iou_heatmap.png\"))\n",
    "plt.show()\n"
   ]
  },
  {
   "cell_type": "markdown",
   "id": "c02eb5e8",
   "metadata": {},
   "source": [
    "### Interpretation of the Matrix\n",
    "\n",
    "1. The IoU (Jaccard Index) values represent the degree of overlap in detected CWEs between two tools.\n",
    "\n",
    "2. Diagonal values are 1.00, which is expected, since a tool fully overlaps with itself.\n",
    "\n",
    "3. The off-diagonal values are very low (≤ 0.04), meaning that:\n",
    "\n",
    "4. Cppcheck and Flawfinder share a small overlap (IoU = 0.04), indicating limited similarity in the CWE categories they detect.\n",
    "\n",
    "5. Semgrep shows no overlap (IoU = 0.00) with either Cppcheck or Flawfinder and even with itself, suggesting that it has not identified any set of CWEs.\n",
    "\n",
    "Inference:\n",
    "The tools exhibit high diversity in their vulnerability findings. Each tool targets different classes of weaknesses, which means their combined usage can significantly improve overall coverage."
   ]
  },
  {
   "cell_type": "markdown",
   "id": "c68a1569",
   "metadata": {},
   "source": [
    "### Which Tool Combination Maximizes CWE Coverage\n",
    "\n",
    "To identify the pair that maximizes unique CWE coverage, we compare the union of CWE IDs detected by each pair:\n",
    "\n",
    "Since Flawfinder and Cppcheck overlap is low with each other tools, combining Both (or Cppcheck + Flawfinder) provides the largest total CWE coverage.\n",
    "\n",
    "This implies that Flawfinder and Cppcheck detects vulnerabilities that overlap least with each other."
   ]
  },
  {
   "cell_type": "markdown",
   "id": "59c01d15",
   "metadata": {},
   "source": [
    "### Takeaways\n",
    "\n",
    "1. The low IoU values confirm that the tools are complementary rather than redundant.\n",
    "\n",
    "2. Using multiple static analysis tools in tandem provides broader detection of vulnerabilities and reduces blind spots.\n",
    "\n",
    "3. Cppcheck and Flawfinder have some conceptual similarity (both focus on C/C++ code analysis), whereas Semgrep brings a different rule base and logic pattern detection.\n",
    "\n",
    "Hence, a multi-tool pipeline (e.g., Cppcheck + Semgrep + Flawfinder) is ideal for maximizing CWE coverage and achieving more comprehensive static security analysis."
   ]
  }
 ],
 "metadata": {
  "kernelspec": {
   "display_name": "Python 3",
   "language": "python",
   "name": "python3"
  },
  "language_info": {
   "codemirror_mode": {
    "name": "ipython",
    "version": 3
   },
   "file_extension": ".py",
   "mimetype": "text/x-python",
   "name": "python",
   "nbconvert_exporter": "python",
   "pygments_lexer": "ipython3",
   "version": "3.11.5"
  }
 },
 "nbformat": 4,
 "nbformat_minor": 5
}
